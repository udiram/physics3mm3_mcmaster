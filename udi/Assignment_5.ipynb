{
 "cells": [
  {
   "cell_type": "markdown",
   "metadata": {
    "pycharm": {
     "name": "#%% md\n"
    }
   },
   "source": [
    "# The Infinite Spherical Well\n",
    "#### Erik S. S&oslash;rensen, Physics & Astronomy, McMaster University,  November 9, 2019\n",
    "Remember the infinite square well that you looked at in the first python notebook that we used. We later used almost the same method to look at the *finite* square well: we integrated up the center of the well and used the value of the wave-function there to determine if we had a solution or not. This method works both for the *finite* and *infinite* well. \n",
    "\n",
    "However, for the *infinite* well there is a simpler approach, since we know the wave-function (really $u(r)$) is zero at the right wall: integrate from the left wall all the way to the right wall and see if the wave-function is zero. This approach obviously yields **all** solutions and doesn't depend on symmetry. \n",
    "\n",
    "In fact, the shape of the potential does not need to be a constant between the two walls, a fact that we shall make use of to study the *infinite* spherical well."
   ]
  },
  {
   "cell_type": "markdown",
   "metadata": {
    "pycharm": {
     "name": "#%% md\n"
    }
   },
   "source": [
    "## Question 1\n",
    "Below is a slightly modified version of the python code we used to study the infinite square well. As mentioned above, we now integrate from the left wall to the right wall and check if the wave function is zero at the right wall. Modify this code so that you can study the infinite **spherical** well.  \n",
    "\n",
    "You will need to be careful with how the effective potential behaves close to $r=0$. Instead of having it diverge as $r\\to 0$ you could have it tend to a very large finite value. \n",
    "\n",
    "Adjust the code so that you can set $a=1$ and $l=10$. \n",
    "\n",
    "Submit all eigenvalues you find with $E<1000$."
   ]
  },
  {
   "cell_type": "code",
   "execution_count": 18,
   "metadata": {
    "ExecuteTime": {
     "end_time": "2023-12-01T15:35:09.206159900Z",
     "start_time": "2023-12-01T15:35:07.639454Z"
    },
    "pycharm": {
     "name": "#%%\n"
    }
   },
   "outputs": [],
   "source": [
    "from pylab import *\n",
    "from scipy.integrate import odeint\n",
    "from scipy.optimize import brentq\n",
    "import matplotlib.pyplot as plt\n",
    "import numpy as np"
   ]
  },
  {
   "cell_type": "code",
   "execution_count": 19,
   "outputs": [],
   "source": [
    "def V(x):\n",
    "    global a\n",
    "    if x < abs(a):\n",
    "        return 0\n",
    "    else:\n",
    "        return 1e10"
   ],
   "metadata": {
    "collapsed": false,
    "pycharm": {
     "name": "#%%\n"
    }
   }
  },
  {
   "cell_type": "code",
   "execution_count": 20,
   "outputs": [],
   "source": [
    "def D1D2(psi, x):\n",
    "    D1 = psi[1]\n",
    "\n",
    "    if x > 0.01:\n",
    "        D2 = psi[0] * ( 2 * (V(x) - E) + l*(l+1) ) - (2 * D1 / x)\n",
    "\n",
    "    else:\n",
    "        D2 = psi[0] * ( 2 * (V(x) - E) + l*(l+1) ) - (2 * D1 / 0.01)\n",
    "\n",
    "    return array([D1, D2])"
   ],
   "metadata": {
    "collapsed": false,
    "pycharm": {
     "name": "#%%\n"
    }
   }
  },
  {
   "cell_type": "code",
   "execution_count": 21,
   "outputs": [],
   "source": [
    "def Wave_function(energy):\n",
    "    global psi,E\n",
    "    E = energy\n",
    "    psi = odeint(D1D2, psi0, x)\n",
    "    psi = psi/sqrt(h*np.sum(np.square(psi[:,0])))\n",
    "    return psi[-1,0]"
   ],
   "metadata": {
    "collapsed": false,
    "pycharm": {
     "name": "#%%\n"
    }
   }
  },
  {
   "cell_type": "code",
   "execution_count": 22,
   "outputs": [
    {
     "name": "stderr",
     "output_type": "stream",
     "text": [
      "/Library/Frameworks/Python.framework/Versions/3.8/lib/python3.8/site-packages/scipy/integrate/odepack.py:248: ODEintWarning: Excess work done on this call (perhaps wrong Dfun type). Run with full_output = 1 to get quantitative information.\n",
      "  warnings.warn(warning_msg, ODEintWarning)\n"
     ]
    }
   ],
   "source": [
    "N = 10000                   # number of discrete points on the x-axis\n",
    "a = 1                       # Set the width of the well\n",
    "l = 10                      # magnetic quantum number\n",
    "psi = np.zeros([N,2])       # Wave function values and its derivative (psi and psi')\n",
    "psi0 = array([0,1])         # Wave function initial states\n",
    "x = linspace(0, a, N)      # the poinrts on the x-axis between left wall of the well and x=0\n",
    "h=x[1]-x[0]\n",
    "Emax = 1000.0\n",
    "Ebottom = 0.0                # let us only look for solutions between Ebottom =0 and Emax=100\n",
    "en = linspace(Ebottom, Emax, 1000) # A number of discrete energies where we will calculate psi(x=0)\n",
    "psi_b = []                  # vector of wave function at x = 0 for all of the energies in en\n",
    "for e1 in en:\n",
    "    psi_b.append(Wave_function(e1))     # Determine psi(x=0) for every e1 in en\n",
    "\n",
    "plt.plot(en, psi_b, 'r-')\n",
    "plt.xlabel(r'$E$',size=20)\n",
    "plt.ylabel(r'$u(r=a)$',size=20)\n",
    "plt.ylim(-2,2)\n",
    "plt.grid(True)\n",
    "plt.show()"
   ],
   "metadata": {
    "collapsed": false,
    "pycharm": {
     "name": "#%%\n"
    }
   }
  },
  {
   "cell_type": "code",
   "execution_count": 23,
   "metadata": {
    "ExecuteTime": {
     "end_time": "2023-12-01T15:35:22.476087Z",
     "start_time": "2023-12-01T15:35:22.135823600Z"
    },
    "pycharm": {
     "name": "#%%\n"
    }
   },
   "outputs": [],
   "source": [
    "def find_all_zeroes(x,y):\n",
    "    all_zeroes = []\n",
    "    s = sign(y)\n",
    "    for i in range(len(y)-1):\n",
    "        if s[i]+s[i+1] == 0:\n",
    "            zero = brentq(Wave_function, x[i], x[i+1])\n",
    "            all_zeroes.append(zero)\n",
    "    return all_zeroes"
   ]
  },
  {
   "cell_type": "code",
   "execution_count": 24,
   "outputs": [
    {
     "name": "stdout",
     "output_type": "stream",
     "text": [
      "Energies for the bound states are: \n",
      "[59.96, 74.83, 99.63, 134.33, 178.96, 233.5, 297.96, 372.33, 456.61, 550.82, 654.93, 768.96, 892.91]\n"
     ]
    }
   ],
   "source": [
    "E_zeroes = find_all_zeroes(en, psi_b)   # now find the precise energies where psi(x=a) = 0\n",
    "print( \"Energies for the bound states are: \")\n",
    "E_zeroes = [round(E_zeroes[i],2) for i in range(len(E_zeroes))]\n",
    "print(E_zeroes)"
   ],
   "metadata": {
    "collapsed": false,
    "pycharm": {
     "name": "#%%\n"
    }
   }
  },
  {
   "cell_type": "markdown",
   "metadata": {
    "pycharm": {
     "name": "#%% md\n"
    }
   },
   "source": [
    "## Question 2\n",
    "Finally, change your code (in the last box) to plot the 6th *excited* wave-function (i.e. the 7th wave-function if you count the ground-state) with $a=1$ and $l=10$. There is no need to plot the entire wave-function, just the radial part ($u(r)$) that the program is determining."
   ]
  },
  {
   "cell_type": "code",
   "execution_count": 27,
   "outputs": [],
   "source": [
    "x = linspace(0, a, N)\n",
    "h=x[1]-x[0]\n",
    "plt.figure(figsize=(10,8))\n",
    "for E in E_zeroes[6:7]:\n",
    "        Wave_function(E)\n",
    "        psi[:,0]=psi[:,0]/sqrt(np.sum(h*np.square(psi[:,0])))\n",
    "        plt.plot(x, psi[:,0], label=\"E = \"+str(E))\n",
    "        \n",
    "plt.xlabel(r'$r$',size=20)\n",
    "plt.ylabel(r'$u(r)$',size=20)\n",
    "plt.legend()\n",
    "plt.savefig(\"infinite_spherical_well.png\")\n",
    "plt.show()"
   ],
   "metadata": {
    "collapsed": false,
    "pycharm": {
     "name": "#%%\n"
    }
   }
  },
  {
   "cell_type": "code",
   "execution_count": null,
   "outputs": [],
   "source": [],
   "metadata": {
    "collapsed": false,
    "pycharm": {
     "name": "#%%\n"
    }
   }
  }
 ],
 "metadata": {
  "kernelspec": {
   "display_name": "Python 3 (ipykernel)",
   "language": "python",
   "name": "python3"
  },
  "language_info": {
   "codemirror_mode": {
    "name": "ipython",
    "version": 3
   },
   "file_extension": ".py",
   "mimetype": "text/x-python",
   "name": "python",
   "nbconvert_exporter": "python",
   "pygments_lexer": "ipython3",
   "version": "3.11.4"
  }
 },
 "nbformat": 4,
 "nbformat_minor": 4
}